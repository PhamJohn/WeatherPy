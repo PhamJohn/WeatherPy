{
 "cells": [
  {
   "cell_type": "markdown",
   "metadata": {},
   "source": [
    "## Deliverable 3. Create a Travel Itinerary Map."
   ]
  },
  {
   "cell_type": "code",
   "execution_count": 1,
   "metadata": {},
   "outputs": [],
   "source": [
    "# Dependencies and Setup\n",
    "import pandas as pd\n",
    "import requests\n",
    "import gmaps\n",
    "\n",
    "# Import API key\n",
    "from config import g_key\n",
    "\n",
    "# Configure gmaps\n",
    "gmaps.configure(api_key=g_key)"
   ]
  },
  {
   "cell_type": "code",
   "execution_count": 2,
   "metadata": {},
   "outputs": [
    {
     "data": {
      "text/html": [
       "<div>\n",
       "<style scoped>\n",
       "    .dataframe tbody tr th:only-of-type {\n",
       "        vertical-align: middle;\n",
       "    }\n",
       "\n",
       "    .dataframe tbody tr th {\n",
       "        vertical-align: top;\n",
       "    }\n",
       "\n",
       "    .dataframe thead th {\n",
       "        text-align: right;\n",
       "    }\n",
       "</style>\n",
       "<table border=\"1\" class=\"dataframe\">\n",
       "  <thead>\n",
       "    <tr style=\"text-align: right;\">\n",
       "      <th></th>\n",
       "      <th>City_ID</th>\n",
       "      <th>City</th>\n",
       "      <th>Country</th>\n",
       "      <th>Max Temp</th>\n",
       "      <th>Current Description</th>\n",
       "      <th>Lat</th>\n",
       "      <th>Lng</th>\n",
       "      <th>Hotel Name</th>\n",
       "    </tr>\n",
       "  </thead>\n",
       "  <tbody>\n",
       "    <tr>\n",
       "      <th>0</th>\n",
       "      <td>1</td>\n",
       "      <td>Hamilton</td>\n",
       "      <td>US</td>\n",
       "      <td>81.41</td>\n",
       "      <td>light rain</td>\n",
       "      <td>39.1834</td>\n",
       "      <td>-84.5333</td>\n",
       "      <td>Six Acres Bed &amp; Breakfast</td>\n",
       "    </tr>\n",
       "    <tr>\n",
       "      <th>1</th>\n",
       "      <td>4</td>\n",
       "      <td>Matara</td>\n",
       "      <td>LK</td>\n",
       "      <td>78.46</td>\n",
       "      <td>overcast clouds</td>\n",
       "      <td>5.9485</td>\n",
       "      <td>80.5353</td>\n",
       "      <td>Amaloh Boutique Resort</td>\n",
       "    </tr>\n",
       "    <tr>\n",
       "      <th>2</th>\n",
       "      <td>6</td>\n",
       "      <td>Lafia</td>\n",
       "      <td>NG</td>\n",
       "      <td>72.39</td>\n",
       "      <td>overcast clouds</td>\n",
       "      <td>8.4833</td>\n",
       "      <td>8.5167</td>\n",
       "      <td>Low Cost Housing Estate</td>\n",
       "    </tr>\n",
       "    <tr>\n",
       "      <th>3</th>\n",
       "      <td>7</td>\n",
       "      <td>Padrauna</td>\n",
       "      <td>IN</td>\n",
       "      <td>78.67</td>\n",
       "      <td>heavy intensity rain</td>\n",
       "      <td>26.9025</td>\n",
       "      <td>83.9819</td>\n",
       "      <td>Hotel Sky Lark</td>\n",
       "    </tr>\n",
       "    <tr>\n",
       "      <th>4</th>\n",
       "      <td>9</td>\n",
       "      <td>Nicoya</td>\n",
       "      <td>CR</td>\n",
       "      <td>89.15</td>\n",
       "      <td>overcast clouds</td>\n",
       "      <td>10.1483</td>\n",
       "      <td>-85.4520</td>\n",
       "      <td>Guayacan Real</td>\n",
       "    </tr>\n",
       "  </tbody>\n",
       "</table>\n",
       "</div>"
      ],
      "text/plain": [
       "   City_ID      City Country  Max Temp   Current Description      Lat  \\\n",
       "0        1  Hamilton      US     81.41            light rain  39.1834   \n",
       "1        4    Matara      LK     78.46       overcast clouds   5.9485   \n",
       "2        6     Lafia      NG     72.39       overcast clouds   8.4833   \n",
       "3        7  Padrauna      IN     78.67  heavy intensity rain  26.9025   \n",
       "4        9    Nicoya      CR     89.15       overcast clouds  10.1483   \n",
       "\n",
       "       Lng                 Hotel Name  \n",
       "0 -84.5333  Six Acres Bed & Breakfast  \n",
       "1  80.5353     Amaloh Boutique Resort  \n",
       "2   8.5167    Low Cost Housing Estate  \n",
       "3  83.9819             Hotel Sky Lark  \n",
       "4 -85.4520              Guayacan Real  "
      ]
     },
     "execution_count": 2,
     "metadata": {},
     "output_type": "execute_result"
    }
   ],
   "source": [
    "# 1. Read the WeatherPy_vacation.csv into a DataFrame.\n",
    "vacation_df = pd.read_csv(\"Vacation_Search/WeatherPy_vacation.csv\")\n",
    "vacation_df.head()"
   ]
  },
  {
   "cell_type": "code",
   "execution_count": 3,
   "metadata": {},
   "outputs": [],
   "source": [
    "# 2. Using the template add the city name, the country code, the weather description and maximum temperature for the city.\n",
    "info_box_template = \"\"\"\n",
    "<dl>\n",
    "<dt>City</dt><dd>{City}</dd>\n",
    "<dt>Country</dt><dd>{Country}</dd>\n",
    "<dt>Current Weather</dt><dd>{Current Description} and {Max Temp} °F</dd>\n",
    "</dl>\n",
    "\"\"\"\n",
    "\n",
    "# 3a. Get the data from each row and add it to the formatting template and store the data in a list.\n",
    "hotel_info = [info_box_template.format(**row) for index, row in vacation_df.iterrows()]\n",
    "\n",
    "# 3b. Get the latitude and longitude from each row and store in a new DataFrame.\n",
    "locations = vacation_df[[\"Lat\", \"Lng\"]]"
   ]
  },
  {
   "cell_type": "code",
   "execution_count": 4,
   "metadata": {},
   "outputs": [
    {
     "data": {
      "application/vnd.jupyter.widget-view+json": {
       "model_id": "9ea7e8b141ae4d25a9494a73efe72e9d",
       "version_major": 2,
       "version_minor": 0
      },
      "text/plain": [
       "Figure(layout=FigureLayout(height='420px'))"
      ]
     },
     "metadata": {},
     "output_type": "display_data"
    }
   ],
   "source": [
    "# 4a. Add a marker layer for each city to the map.\n",
    "fig = gmaps.figure(center=(30.0, 31.0), zoom_level=1.5)\n",
    "marker_layer = gmaps.marker_layer(locations, info_box_content=hotel_info)\n",
    "fig.add_layer(marker_layer)\n",
    "\n",
    "# 4b. Display the figure\n",
    "fig"
   ]
  },
  {
   "cell_type": "code",
   "execution_count": 5,
   "metadata": {},
   "outputs": [],
   "source": [
    "# From the map above pick 4 cities and create a vacation itinerary route to travel between the four cities. \n",
    "# 5. Create DataFrames for each city by filtering the 'vacation_df' using the loc method. \n",
    "# Hint: The starting and ending city should be the same city.\n",
    "\n",
    "vacation_start = vacation_df.loc[(vacation_df[\"City\"] == \"Nola\") & (vacation_df[\"Country\"] == \"IT\")]\n",
    "vacation_end = vacation_df.loc[(vacation_df[\"City\"] == \"Calatayud\") & (vacation_df[\"Country\"] == \"ES\")]\n",
    "vacation_stop1 = vacation_df.loc[(vacation_df[\"City\"] == \"Dobrinje\") & (vacation_df[\"Country\"] == \"BA\")]\n",
    "vacation_stop2 = vacation_df.loc[(vacation_df[\"City\"] == \"Rylsk\")  & (vacation_df[\"Country\"] == \"RU\")]\n",
    "vacation_stop3 = vacation_df.loc[(vacation_df[\"City\"] == \"Jalu\") & (vacation_df[\"Country\"] == \"LY\")]"
   ]
  },
  {
   "cell_type": "code",
   "execution_count": 6,
   "metadata": {},
   "outputs": [],
   "source": [
    "# 6. Get the latitude-longitude pairs as tuples from each city DataFrame using the to_numpy function and list indexing.\n",
    "start = vacation_start[[\"Lat\",\"Lng\"]].to_numpy()\n",
    "end = vacation_end[[\"Lat\",\"Lng\"]].to_numpy()\n",
    "stop1 = vacation_stop1[[\"Lat\",\"Lng\"]].to_numpy()\n",
    "stop2 = vacation_stop2[[\"Lat\",\"Lng\"]].to_numpy()\n",
    "stop3 = vacation_stop3[[\"Lat\",\"Lng\"]].to_numpy()"
   ]
  },
  {
   "cell_type": "code",
   "execution_count": 7,
   "metadata": {
    "scrolled": false
   },
   "outputs": [
    {
     "data": {
      "application/vnd.jupyter.widget-view+json": {
       "model_id": "0ba9d26026c74a1293175c95a5cc7d5d",
       "version_major": 2,
       "version_minor": 0
      },
      "text/plain": [
       "Figure(layout=FigureLayout(height='420px'))"
      ]
     },
     "metadata": {},
     "output_type": "display_data"
    }
   ],
   "source": [
    "# 7. Create a direction layer map using the start and end latitude-longitude pairs,\n",
    "# and stop1, stop2, and stop3 as the waypoints. The travel_mode should be \"DRIVING\", \"BICYCLING\", or \"WALKING\".\n",
    "fig=gmaps.figure()\n",
    "directions_layer = gmaps.directions_layer(start[0], end[0], waypoints = [stop1[0],stop2[0],stop3[0]], travel_mode = \"DRIVING\")\n",
    "fig.add_layer(directions_layer)\n",
    "fig"
   ]
  },
  {
   "cell_type": "code",
   "execution_count": 8,
   "metadata": {},
   "outputs": [
    {
     "data": {
      "text/html": [
       "<div>\n",
       "<style scoped>\n",
       "    .dataframe tbody tr th:only-of-type {\n",
       "        vertical-align: middle;\n",
       "    }\n",
       "\n",
       "    .dataframe tbody tr th {\n",
       "        vertical-align: top;\n",
       "    }\n",
       "\n",
       "    .dataframe thead th {\n",
       "        text-align: right;\n",
       "    }\n",
       "</style>\n",
       "<table border=\"1\" class=\"dataframe\">\n",
       "  <thead>\n",
       "    <tr style=\"text-align: right;\">\n",
       "      <th></th>\n",
       "      <th>City_ID</th>\n",
       "      <th>City</th>\n",
       "      <th>Country</th>\n",
       "      <th>Max Temp</th>\n",
       "      <th>Current Description</th>\n",
       "      <th>Lat</th>\n",
       "      <th>Lng</th>\n",
       "      <th>Hotel Name</th>\n",
       "    </tr>\n",
       "  </thead>\n",
       "  <tbody>\n",
       "    <tr>\n",
       "      <th>0</th>\n",
       "      <td>40</td>\n",
       "      <td>Nola</td>\n",
       "      <td>IT</td>\n",
       "      <td>85.35</td>\n",
       "      <td>few clouds</td>\n",
       "      <td>40.9220</td>\n",
       "      <td>14.5329</td>\n",
       "      <td>Pamaran Hotel</td>\n",
       "    </tr>\n",
       "    <tr>\n",
       "      <th>1</th>\n",
       "      <td>27</td>\n",
       "      <td>Dobrinje</td>\n",
       "      <td>BA</td>\n",
       "      <td>86.74</td>\n",
       "      <td>broken clouds</td>\n",
       "      <td>44.0497</td>\n",
       "      <td>18.1194</td>\n",
       "      <td>Pansion Mušinbegović</td>\n",
       "    </tr>\n",
       "    <tr>\n",
       "      <th>2</th>\n",
       "      <td>95</td>\n",
       "      <td>Rylsk</td>\n",
       "      <td>RU</td>\n",
       "      <td>71.55</td>\n",
       "      <td>scattered clouds</td>\n",
       "      <td>51.5655</td>\n",
       "      <td>34.6822</td>\n",
       "      <td>Gostinitsa \"Mechta\"</td>\n",
       "    </tr>\n",
       "    <tr>\n",
       "      <th>3</th>\n",
       "      <td>123</td>\n",
       "      <td>Jalu</td>\n",
       "      <td>LY</td>\n",
       "      <td>89.53</td>\n",
       "      <td>clear sky</td>\n",
       "      <td>29.0331</td>\n",
       "      <td>21.5482</td>\n",
       "      <td>صاحبة الفخامة</td>\n",
       "    </tr>\n",
       "  </tbody>\n",
       "</table>\n",
       "</div>"
      ],
      "text/plain": [
       "   City_ID      City Country  Max Temp Current Description      Lat      Lng  \\\n",
       "0       40      Nola      IT     85.35          few clouds  40.9220  14.5329   \n",
       "1       27  Dobrinje      BA     86.74       broken clouds  44.0497  18.1194   \n",
       "2       95     Rylsk      RU     71.55    scattered clouds  51.5655  34.6822   \n",
       "3      123      Jalu      LY     89.53           clear sky  29.0331  21.5482   \n",
       "\n",
       "             Hotel Name  \n",
       "0         Pamaran Hotel  \n",
       "1  Pansion Mušinbegović  \n",
       "2   Gostinitsa \"Mechta\"  \n",
       "3         صاحبة الفخامة  "
      ]
     },
     "execution_count": 8,
     "metadata": {},
     "output_type": "execute_result"
    }
   ],
   "source": [
    "# 8. To create a marker layer map between the four cities.\n",
    "#  Combine the four city DataFrames into one DataFrame using the concat() function.\n",
    "itinerary_df = pd.concat([vacation_start,vacation_stop1,vacation_stop2,vacation_stop3],ignore_index=True)\n",
    "itinerary_df"
   ]
  },
  {
   "cell_type": "code",
   "execution_count": 9,
   "metadata": {},
   "outputs": [],
   "source": [
    "# 9 Using the template add city name, the country code, the weather description and maximum temperature for the city. \n",
    "info_box_template = \"\"\"\n",
    "<dl>\n",
    "<dt>Hotel Name</dt><dd>{Hotel Name}</dd>\n",
    "<dt>City</dt><dd>{City}</dd>\n",
    "<dt>Country</dt><dd>{Country}</dd>\n",
    "\"\"\"\n",
    "\n",
    "# 10a Get the data from each row and add it to the formatting template and store the data in a list.\n",
    "hotel_info = [info_box_template.format(**row) for index, row in itinerary_df.iterrows()]\n",
    "\n",
    "# 10b. Get the latitude and longitude from each row and store in a new DataFrame.\n",
    "locations = itinerary_df[[\"Lat\", \"Lng\"]]"
   ]
  },
  {
   "cell_type": "code",
   "execution_count": 10,
   "metadata": {},
   "outputs": [
    {
     "data": {
      "application/vnd.jupyter.widget-view+json": {
       "model_id": "4027c521723547d1ae26c752a4db1e86",
       "version_major": 2,
       "version_minor": 0
      },
      "text/plain": [
       "Figure(layout=FigureLayout(height='420px'))"
      ]
     },
     "metadata": {},
     "output_type": "display_data"
    }
   ],
   "source": [
    "# 11a. Add a marker layer for each city to the map.\n",
    "marker_layer=gmaps.marker_layer(locations, info_box_content=hotel_info)\n",
    "\n",
    "# 11b. Display the figure\n",
    "fig=gmaps.figure()\n",
    "fig.add_layer(marker_layer)\n",
    "fig"
   ]
  },
  {
   "cell_type": "code",
   "execution_count": null,
   "metadata": {},
   "outputs": [],
   "source": []
  }
 ],
 "metadata": {
  "kernelspec": {
   "display_name": "PythonData",
   "language": "python",
   "name": "pythondata"
  },
  "language_info": {
   "codemirror_mode": {
    "name": "ipython",
    "version": 3
   },
   "file_extension": ".py",
   "mimetype": "text/x-python",
   "name": "python",
   "nbconvert_exporter": "python",
   "pygments_lexer": "ipython3",
   "version": "3.7.10"
  },
  "latex_envs": {
   "LaTeX_envs_menu_present": true,
   "autoclose": false,
   "autocomplete": true,
   "bibliofile": "biblio.bib",
   "cite_by": "apalike",
   "current_citInitial": 1,
   "eqLabelWithNumbers": true,
   "eqNumInitial": 1,
   "hotkeys": {
    "equation": "Ctrl-E",
    "itemize": "Ctrl-I"
   },
   "labels_anchors": false,
   "latex_user_defs": false,
   "report_style_numbering": false,
   "user_envs_cfg": false
  }
 },
 "nbformat": 4,
 "nbformat_minor": 2
}
